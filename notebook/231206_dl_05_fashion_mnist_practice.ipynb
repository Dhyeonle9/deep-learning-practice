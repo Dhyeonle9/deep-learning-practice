{
  "cells": [
    {
      "cell_type": "code",
      "execution_count": 1,
      "metadata": {
        "id": "-xDc8eUo-fXK"
      },
      "outputs": [],
      "source": [
        "# TensorFlow와 Keras를 임포트합니다\n",
        "# TensorFlow 라이브러리를 임포트합니다\n",
        "# Keras 라이브러리를 임포트합니다\n",
        "# Keras에서 Sequential 모델을 임포트합니다\n",
        "# Keras에서 Dense와 Flatten 레이어를 임포트합니다\n",
        "# Keras에서 fashion_mnist 데이터셋을 임포트합니다"
      ]
    },
    {
      "cell_type": "code",
      "execution_count": 2,
      "metadata": {
        "colab": {
          "base_uri": "https://localhost:8080/"
        },
        "id": "tAC4AV0b-V0m",
        "outputId": "c886caf2-ddb8-479c-b699-cf2054d5726d"
      },
      "outputs": [
        {
          "name": "stdout",
          "output_type": "stream",
          "text": [
            "Downloading data from https://storage.googleapis.com/tensorflow/tf-keras-datasets/train-labels-idx1-ubyte.gz\n",
            "29515/29515 [==============================] - 0s 0us/step\n",
            "Downloading data from https://storage.googleapis.com/tensorflow/tf-keras-datasets/train-images-idx3-ubyte.gz\n",
            "26421880/26421880 [==============================] - 1s 0us/step\n",
            "Downloading data from https://storage.googleapis.com/tensorflow/tf-keras-datasets/t10k-labels-idx1-ubyte.gz\n",
            "5148/5148 [==============================] - 0s 0us/step\n",
            "Downloading data from https://storage.googleapis.com/tensorflow/tf-keras-datasets/t10k-images-idx3-ubyte.gz\n",
            "4422102/4422102 [==============================] - 1s 0us/step\n"
          ]
        }
      ],
      "source": [
        "# Fashion MNIST 데이터셋을 로드합니다\n",
        "\n",
        "# Fashion MNIST 데이터셋을 로드하고 훈련 이미지, 훈련 레이블, 테스트 이미지 및 테스트 레이블을 변수에 할당"
      ]
    },
    {
      "cell_type": "code",
      "execution_count": 3,
      "metadata": {
        "id": "clZsfa_2-tBy"
      },
      "outputs": [],
      "source": [
        "# 이미지들을 정규화합니다 (0과 1 사이의 값으로)\n",
        "# 이미지 픽셀 값은 0에서 255 사이의 범위를 갖습니다.\n",
        "# 정규화를 통해 모든 픽셀 값을 0에서 1 사이의 값으로 스케일링합니다.\n",
        "\n",
        "\n",
        "# 이미지 정규화는 이미지 데이터를 신경망 모델에 입력하기 전에 스케일을 조정하는 과정입니다.\n",
        "# 일반적으로 0에서 255 사이의 픽셀 값은 0과 1 사이의 값으로 변환하여 모델의 학습을 더 안정적으로 만듭니다.\n",
        "# 이렇게 정규화된 데이터는 학습 및 예측 과정에서 더 잘 동작합니다."
      ]
    },
    {
      "cell_type": "code",
      "execution_count": 4,
      "metadata": {
        "id": "Hnav-5X6-vTq"
      },
      "outputs": [],
      "source": [
        "# 순차적 모델을 구축합니다\n",
        "model = Sequential([\n",
        "    # Flatten 레이어: 2D 이미지를 1D 배열로 변환하여 입력 데이터를 평평하게 만듭니다.\n",
        "    # 이렇게 하면 이미지의 픽셀을 일렬로 나열하여 신경망에 입력할 수 있습니다.\n",
        "    # 입력 이미지는 28x28 크기의 2D 배열입니다.\n",
        "\n",
        "    # Dense 레이어 (은닉층): 128개의 뉴런을 가집니다.\n",
        "    # 활성화 함수로는 ReLU(Rectified Linear Activation)를 사용합니다.\n",
        "    # 이 층은 입력 데이터에서 중요한 특징을 추출하는 역할을 합니다.\n",
        "    # 128개의 은닉 뉴런과 ReLU 활성화 함수를 사용합니다.\n",
        "\n",
        "\n",
        "    # Dense 레이어 (출력 층): 10개의 뉴런을 가집니다.\n",
        "    # 활성화 함수로는 Softmax를 사용합니다. Softmax는 다중 클래스 분류에 적합합니다.\n",
        "    # 각 뉴런은 클래스(패션 아이템 카테고리)에 대한 확률을 출력합니다.\n",
        "    # 10개의 클래스를 분류하기 위한 출력 층입니다.\n",
        "])\n"
      ]
    },
    {
      "cell_type": "code",
      "execution_count": 5,
      "metadata": {
        "id": "GbxsmkzX-w0c"
      },
      "outputs": [],
      "source": [
        "# 모델을 컴파일합니다\n",
        "model.compile(\n",
        "    # 옵티마이저로 'adam'을 사용합니다. Adam은 효율적인 경사 하강 알고리즘입니다.\n",
        "    수로 'sparse_categorical_crossentropy'를 사용합니다.\n",
        "    # 모델 평가 지표로 정확도를 사용합니다.\n",
        ")\n",
        "\n",
        "# sparse_categorical_crossentropy와 categorical_crossentropy의 차이\n",
        "\n",
        "# sparse_categorical_crossentropy:\n",
        "# - 레이블은 정수 형태로 주어집니다. 각 샘플의 레이블은 클래스의 인덱스입니다.\n",
        "# - 예를 들어, 클래스가 0부터 9까지의 정수로 표현되는 경우 사용됩니다.\n",
        "# - 모델의 출력은 클래스 수에 대한 로짓(점수)을 출력하며, 소프트맥스 활성화 함수와 함께 사용됩니다.\n",
        "\n",
        "# categorical_crossentropy:\n",
        "# - 레이블은 원-핫 인코딩된 벡터로 주어집니다. 각 클래스에 해당하는 요소는 1, 나머지는 0입니다.\n",
        "# - 예를 들어, 클래스가 [0, 1, 0, 0, 0, 0, 0, 0, 0, 0]과 같이 벡터로 표현되는 경우 사용됩니다.\n",
        "# - 모델의 출력은 클래스에 대한 확률 분포를 출력하며, 소프트맥스 활성화 함수와 함께 사용됩니다.\n",
        "\n",
        "# 어떤 것을 선택해야 할지는 데이터의 레이블 표현 방식에 따라 다릅니다.\n",
        "# sparse_categorical_crossentropy는 정수로 표현된 클래스 레이블에 적합하고,\n",
        "# categorical_crossentropy는 원-핫 인코딩된 클래스 레이블에 적합합니다."
      ]
    },
    {
      "cell_type": "code",
      "execution_count": 6,
      "metadata": {
        "colab": {
          "base_uri": "https://localhost:8080/"
        },
        "id": "d-uIrm68-ydr",
        "outputId": "d47ff5a0-5e22-4bb2-e102-784a5018a2a4"
      },
      "outputs": [
        {
          "name": "stdout",
          "output_type": "stream",
          "text": [
            "Epoch 1/10\n",
            "1875/1875 [==============================] - 9s 2ms/step - loss: 0.5041 - accuracy: 0.8243\n",
            "Epoch 2/10\n",
            "1875/1875 [==============================] - 4s 2ms/step - loss: 0.3793 - accuracy: 0.8630\n",
            "Epoch 3/10\n",
            "1875/1875 [==============================] - 4s 2ms/step - loss: 0.3399 - accuracy: 0.8767\n",
            "Epoch 4/10\n",
            "1875/1875 [==============================] - 4s 2ms/step - loss: 0.3132 - accuracy: 0.8859\n",
            "Epoch 5/10\n",
            "1875/1875 [==============================] - 4s 2ms/step - loss: 0.2964 - accuracy: 0.8911\n",
            "Epoch 6/10\n",
            "1875/1875 [==============================] - 4s 2ms/step - loss: 0.2803 - accuracy: 0.8960\n",
            "Epoch 7/10\n",
            "1875/1875 [==============================] - 4s 2ms/step - loss: 0.2673 - accuracy: 0.9020\n",
            "Epoch 8/10\n",
            "1875/1875 [==============================] - 4s 2ms/step - loss: 0.2587 - accuracy: 0.9039\n",
            "Epoch 9/10\n",
            "1875/1875 [==============================] - 5s 2ms/step - loss: 0.2460 - accuracy: 0.9099\n",
            "Epoch 10/10\n",
            "1875/1875 [==============================] - 5s 2ms/step - loss: 0.2373 - accuracy: 0.9118\n"
          ]
        },
        {
          "data": {
            "text/plain": [
              "<keras.src.callbacks.History at 0x7c3153996020>"
            ]
          },
          "execution_count": 6,
          "metadata": {},
          "output_type": "execute_result"
        }
      ],
      "source": [
        "# 모델을 학습시킵니다\n",
        "# train_images: 훈련 이미지 데이터\n",
        "# train_labels: 훈련 레이블 데이터\n",
        "# epochs: 전체 데이터셋을 몇 번 반복해서 학습할지 지정합니다.\n",
        "\n",
        "model.fit()\n",
        "\n",
        "# 1. Epochs를 늘리고 GPU 설정하기\n",
        "# 2. 조기 종료(Early Stopping) 도입하기:\n",
        "# - 조기 종료는 모델이 과적합(overfitting)되는 것을 방지하기 위한 기술 중 하나입니다.\n",
        "# - 모델 학습 중에 검증 데이터를 사용하여 모델의 성능을 모니터링합니다.\n",
        "# - 성능이 일정 기간 동안 향상되지 않을 때 학습을 조기 종료합니다.\n",
        "# - 이를 위해 Keras에서는 EarlyStopping 콜백을 사용할 수 있습니다.\n",
        "# - 예를 들어, val_loss(검증 데이터의 손실)을 모니터링하고, 일정 epochs 동안 개선되지 않으면 학습을 종료할 수 있습니다.\n",
        "# - EarlyStopping을 적용하려면 적절한 매개 변수(예: patience)를 설정하여 사용합니다.\n",
        "# - 조기 종료를 사용하면 모델이 더 일반화되고 좋은 성능을 얻을 수 있습니다."
      ]
    },
    {
      "cell_type": "code",
      "execution_count": 11,
      "metadata": {
        "colab": {
          "base_uri": "https://localhost:8080/"
        },
        "id": "gFsPgT5C-zXr",
        "outputId": "6a3a7694-9398-4bef-bba7-ee232cf44bd1"
      },
      "outputs": [
        {
          "name": "stdout",
          "output_type": "stream",
          "text": [
            "313/313 - 1s - loss: 0.3267 - accuracy: 0.8849 - 504ms/epoch - 2ms/step\n"
          ]
        }
      ],
      "source": [
        "# 모델을 평가합니다\n",
        "# test_images: 테스트 이미지 데이터\n",
        "# test_labels: 테스트 레이블 데이터\n",
        "# verbose: 평가 과정의 출력을 제어하는 매개 변수입니다. 0은 아무 출력도 하지 않고, 1은 진행 바와 함께 출력하며, 2는 간단한 출력을 합니다.\n",
        "\n",
        " = model.evaluate()\n",
        "\n",
        "# 평가 결과 설명:\n",
        "# - 모델을 테스트 데이터로 평가하여 손실(test_loss)과 정확도(test_acc)를 계산합니다.\n",
        "# - 손실은 모델의 예측이 실제 레이블과 얼마나 일치하지 않는지를 나타냅니다.\n",
        "# - 정확도는 모델이 정확하게 분류한 샘플의 비율을 나타냅니다.\n",
        "# - 모델의 성능을 평가하여 훈련 과정의 결과를 확인하고, 모델을 개선하는 데 도움을 줍니다."
      ]
    },
    {
      "cell_type": "code",
      "execution_count": 12,
      "metadata": {
        "colab": {
          "base_uri": "https://localhost:8080/"
        },
        "id": "miwf97Rk-0si",
        "outputId": "5a6400b2-a056-4e32-f825-225798e074bc"
      },
      "outputs": [
        {
          "name": "stdout",
          "output_type": "stream",
          "text": [
            "\n",
            "Test accuracy: 0.8848999738693237\n"
          ]
        }
      ],
      "source": [
        "# 테스트 정확도를 출력합니다\n",
        "print('\\nTest accuracy:', test_acc)\n",
        "\n",
        "# 이 코드는 모델의 테스트 정확도를 출력하는 부분입니다.\n",
        "# test_acc는 모델 평가 결과에서 계산된 정확도를 나타내며, 이를 화면에 출력합니다.\n",
        "# 테스트 정확도는 모델이 테스트 데이터에서 얼마나 정확하게 분류하는지를 나타내는 중요한 지표 중 하나입니다."
      ]
    },
    {
      "cell_type": "code",
      "execution_count": 13,
      "metadata": {
        "colab": {
          "base_uri": "https://localhost:8080/"
        },
        "id": "PiJEHYUy_epU",
        "outputId": "b7c6d05c-a00c-46c8-b0bf-0c45f68865da"
      },
      "outputs": [
        {
          "name": "stdout",
          "output_type": "stream",
          "text": [
            "313/313 [==============================] - 0s 1ms/step\n"
          ]
        }
      ],
      "source": [
        "\n",
        "\n",
        "# 이 코드는 훈련된 모델을 사용하여 테스트 이미지에 대한 예측을 수행합니다.\n",
        "# test_images는 테스트 데이터셋에 있는 이미지들을 나타내며, 모델은 이 이미지들을 분류합니다.\n",
        "# model.predict() 함수는 각 이미지에 대한 모델의 예측 결과를 반환합니다.\n",
        "\n",
        "# classifications 변수에는 예측 결과가 저장됩니다.\n",
        "# classifications는 각 이미지에 대한 클래스 확률 분포를 나타내며, 예를 들어 첫 번째 이미지에 대한 확률 분포가 [0.1, 0.2, 0.3, ...] 형태일 수 있습니다.\n",
        "# 이 분포에서 가장 높은 확률을 가지는 클래스가 모델의 예측 결과입니다.\n",
        "\n",
        "# 이렇게 예측을 수행하면 모델이 각 테스트 이미지를 어떻게 분류하는지를 알 수 있으며,\n",
        "# 이를 통해 모델의 성능을 평가하거나 예측 결과를 활용할 수 있습니다."
      ]
    },
    {
      "cell_type": "code",
      "execution_count": 14,
      "metadata": {
        "colab": {
          "base_uri": "https://localhost:8080/",
          "height": 466
        },
        "id": "bpK155aO__na",
        "outputId": "0c6e624c-9f52-4674-dbe0-a1695683981e"
      },
      "outputs": [
        {
          "data": {
            "image/png": "[encoded data removed]",
            "text/plain": [
              "<Figure size 640x480 with 1 Axes>"
            ]
          },
          "metadata": {},
          "output_type": "display_data"
        },
        {
          "name": "stdout",
          "output_type": "stream",
          "text": [
            "예측 : 9\n",
            "실제 : 9\n"
          ]
        }
      ],
      "source": [
        "import numpy as np\n",
        "import matplotlib.pyplot as plt\n",
        "\n",
        "def show_result(index):\n",
        "    # 이미지 표시\n",
        "    plt.imshow(test_images[index] * 255)  # 이미지를 시각화하기 전에 정규화를 되돌립니다 (* 255)\n",
        "    plt.show()\n",
        "\n",
        "    # 예측 결과 출력\n",
        "    # np.argmax() 함수는 배열에서 최댓값을 가지는 원소의 인덱스를 반환합니다.\n",
        "    predicted_class = np.argmax(classifications[index])  # classifications에서 가장 높은 확률을 가지는 클래스의 인덱스를 찾습니다.\n",
        "    print(f'예측 : {predicted_class}')  # 모델의 예측 결과를 출력합니다.\n",
        "\n",
        "    # 실제 클래스(레이블) 출력\n",
        "    true_class = test_labels[index]  # 테스트 데이터의 실제 클래스(레이블)를 가져옵니다.\n",
        "    print(f'실제 : {true_class}')  # 실제 클래스(레이블)를 출력합니다.\n",
        "\n",
        "show_result(0)"
      ]
    }
  ],
  "metadata": {
    "accelerator": "GPU",
    "colab": {
      "gpuType": "V100",
      "machine_shape": "hm",
      "provenance": []
    },
    "kernelspec": {
      "display_name": "Python 3",
      "name": "python3"
    },
    "language_info": {
      "name": "python"
    }
  },
  "nbformat": 4,
  "nbformat_minor": 0
}
