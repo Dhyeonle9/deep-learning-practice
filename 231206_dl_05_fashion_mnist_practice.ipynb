{
  "cells": [
    {
      "cell_type": "markdown",
      "metadata": {
        "id": "view-in-github",
        "colab_type": "text"
      },
      "source": [
        "<a href=\"https://colab.research.google.com/github/Dhyeonle9/deep-learning-practice/blob/main/231206_dl_05_fashion_mnist_practice.ipynb\" target=\"_parent\"><img src=\"https://colab.research.google.com/assets/colab-badge.svg\" alt=\"Open In Colab\"/></a>"
      ]
    },
    {
      "cell_type": "code",
      "execution_count": 1,
      "metadata": {
        "id": "-xDc8eUo-fXK"
      },
      "outputs": [],
      "source": [
        "# TensorFlow와 Keras를 임포트합니다\n",
        "# TensorFlow 라이브러리를 임포트합니다\n",
        "# Keras 라이브러리를 임포트합니다\n",
        "import tensorflow as tf\n",
        "import keras\n",
        "# Keras에서 Sequential 모델을 임포트합니다\n",
        "from keras.models import Sequential\n",
        "# Keras에서 Dense와 Flatten 레이어를 임포트합니다\n",
        "from keras.layers import Dense, Flatten\n",
        "# Keras에서 fashion_mnist 데이터셋을 임포트합니다\n",
        "from keras.datasets import fashion_mnist"
      ]
    },
    {
      "cell_type": "code",
      "execution_count": 2,
      "metadata": {
        "colab": {
          "base_uri": "https://localhost:8080/"
        },
        "id": "tAC4AV0b-V0m",
        "outputId": "0c7d97c0-bc5f-4fec-9487-0c4e7b30808d"
      },
      "outputs": [
        {
          "output_type": "stream",
          "name": "stdout",
          "text": [
            "Downloading data from https://storage.googleapis.com/tensorflow/tf-keras-datasets/train-labels-idx1-ubyte.gz\n",
            "29515/29515 [==============================] - 0s 0us/step\n",
            "Downloading data from https://storage.googleapis.com/tensorflow/tf-keras-datasets/train-images-idx3-ubyte.gz\n",
            "26421880/26421880 [==============================] - 0s 0us/step\n",
            "Downloading data from https://storage.googleapis.com/tensorflow/tf-keras-datasets/t10k-labels-idx1-ubyte.gz\n",
            "5148/5148 [==============================] - 0s 0us/step\n",
            "Downloading data from https://storage.googleapis.com/tensorflow/tf-keras-datasets/t10k-images-idx3-ubyte.gz\n",
            "4422102/4422102 [==============================] - 0s 0us/step\n"
          ]
        }
      ],
      "source": [
        "# Fashion MNIST 데이터셋을 로드합니다\n",
        "(train_images, train_labels), (test_images, test_labels) = fashion_mnist.load_data() # (train set), (test set) -> (train_img, train_label), (test_img, test_label)\n",
        "# Fashion MNIST 데이터셋을 로드하고 훈련 이미지, 훈련 레이블, 테스트 이미지 및 테스트 레이블을 변수에 할당"
      ]
    },
    {
      "cell_type": "code",
      "source": [
        "train_images[0] # 각각 픽셀의 명도 (밝은게 255)를 2차원 리스트 형태로 저장"
      ],
      "metadata": {
        "colab": {
          "base_uri": "https://localhost:8080/"
        },
        "id": "KGCtSxqvuycL",
        "outputId": "9db523a2-8b49-489d-b334-c3ccfbdcabc7"
      },
      "execution_count": 6,
      "outputs": [
        {
          "output_type": "execute_result",
          "data": {
            "text/plain": [
              "array([[  0,   0,   0,   0,   0,   0,   0,   0,   0,   0,   0,   0,   0,\n",
              "          0,   0,   0,   0,   0,   0,   0,   0,   0,   0,   0,   0,   0,\n",
              "          0,   0],\n",
              "       [  0,   0,   0,   0,   0,   0,   0,   0,   0,   0,   0,   0,   0,\n",
              "          0,   0,   0,   0,   0,   0,   0,   0,   0,   0,   0,   0,   0,\n",
              "          0,   0],\n",
              "       [  0,   0,   0,   0,   0,   0,   0,   0,   0,   0,   0,   0,   0,\n",
              "          0,   0,   0,   0,   0,   0,   0,   0,   0,   0,   0,   0,   0,\n",
              "          0,   0],\n",
              "       [  0,   0,   0,   0,   0,   0,   0,   0,   0,   0,   0,   0,   1,\n",
              "          0,   0,  13,  73,   0,   0,   1,   4,   0,   0,   0,   0,   1,\n",
              "          1,   0],\n",
              "       [  0,   0,   0,   0,   0,   0,   0,   0,   0,   0,   0,   0,   3,\n",
              "          0,  36, 136, 127,  62,  54,   0,   0,   0,   1,   3,   4,   0,\n",
              "          0,   3],\n",
              "       [  0,   0,   0,   0,   0,   0,   0,   0,   0,   0,   0,   0,   6,\n",
              "          0, 102, 204, 176, 134, 144, 123,  23,   0,   0,   0,   0,  12,\n",
              "         10,   0],\n",
              "       [  0,   0,   0,   0,   0,   0,   0,   0,   0,   0,   0,   0,   0,\n",
              "          0, 155, 236, 207, 178, 107, 156, 161, 109,  64,  23,  77, 130,\n",
              "         72,  15],\n",
              "       [  0,   0,   0,   0,   0,   0,   0,   0,   0,   0,   0,   1,   0,\n",
              "         69, 207, 223, 218, 216, 216, 163, 127, 121, 122, 146, 141,  88,\n",
              "        172,  66],\n",
              "       [  0,   0,   0,   0,   0,   0,   0,   0,   0,   1,   1,   1,   0,\n",
              "        200, 232, 232, 233, 229, 223, 223, 215, 213, 164, 127, 123, 196,\n",
              "        229,   0],\n",
              "       [  0,   0,   0,   0,   0,   0,   0,   0,   0,   0,   0,   0,   0,\n",
              "        183, 225, 216, 223, 228, 235, 227, 224, 222, 224, 221, 223, 245,\n",
              "        173,   0],\n",
              "       [  0,   0,   0,   0,   0,   0,   0,   0,   0,   0,   0,   0,   0,\n",
              "        193, 228, 218, 213, 198, 180, 212, 210, 211, 213, 223, 220, 243,\n",
              "        202,   0],\n",
              "       [  0,   0,   0,   0,   0,   0,   0,   0,   0,   1,   3,   0,  12,\n",
              "        219, 220, 212, 218, 192, 169, 227, 208, 218, 224, 212, 226, 197,\n",
              "        209,  52],\n",
              "       [  0,   0,   0,   0,   0,   0,   0,   0,   0,   0,   6,   0,  99,\n",
              "        244, 222, 220, 218, 203, 198, 221, 215, 213, 222, 220, 245, 119,\n",
              "        167,  56],\n",
              "       [  0,   0,   0,   0,   0,   0,   0,   0,   0,   4,   0,   0,  55,\n",
              "        236, 228, 230, 228, 240, 232, 213, 218, 223, 234, 217, 217, 209,\n",
              "         92,   0],\n",
              "       [  0,   0,   1,   4,   6,   7,   2,   0,   0,   0,   0,   0, 237,\n",
              "        226, 217, 223, 222, 219, 222, 221, 216, 223, 229, 215, 218, 255,\n",
              "         77,   0],\n",
              "       [  0,   3,   0,   0,   0,   0,   0,   0,   0,  62, 145, 204, 228,\n",
              "        207, 213, 221, 218, 208, 211, 218, 224, 223, 219, 215, 224, 244,\n",
              "        159,   0],\n",
              "       [  0,   0,   0,   0,  18,  44,  82, 107, 189, 228, 220, 222, 217,\n",
              "        226, 200, 205, 211, 230, 224, 234, 176, 188, 250, 248, 233, 238,\n",
              "        215,   0],\n",
              "       [  0,  57, 187, 208, 224, 221, 224, 208, 204, 214, 208, 209, 200,\n",
              "        159, 245, 193, 206, 223, 255, 255, 221, 234, 221, 211, 220, 232,\n",
              "        246,   0],\n",
              "       [  3, 202, 228, 224, 221, 211, 211, 214, 205, 205, 205, 220, 240,\n",
              "         80, 150, 255, 229, 221, 188, 154, 191, 210, 204, 209, 222, 228,\n",
              "        225,   0],\n",
              "       [ 98, 233, 198, 210, 222, 229, 229, 234, 249, 220, 194, 215, 217,\n",
              "        241,  65,  73, 106, 117, 168, 219, 221, 215, 217, 223, 223, 224,\n",
              "        229,  29],\n",
              "       [ 75, 204, 212, 204, 193, 205, 211, 225, 216, 185, 197, 206, 198,\n",
              "        213, 240, 195, 227, 245, 239, 223, 218, 212, 209, 222, 220, 221,\n",
              "        230,  67],\n",
              "       [ 48, 203, 183, 194, 213, 197, 185, 190, 194, 192, 202, 214, 219,\n",
              "        221, 220, 236, 225, 216, 199, 206, 186, 181, 177, 172, 181, 205,\n",
              "        206, 115],\n",
              "       [  0, 122, 219, 193, 179, 171, 183, 196, 204, 210, 213, 207, 211,\n",
              "        210, 200, 196, 194, 191, 195, 191, 198, 192, 176, 156, 167, 177,\n",
              "        210,  92],\n",
              "       [  0,   0,  74, 189, 212, 191, 175, 172, 175, 181, 185, 188, 189,\n",
              "        188, 193, 198, 204, 209, 210, 210, 211, 188, 188, 194, 192, 216,\n",
              "        170,   0],\n",
              "       [  2,   0,   0,   0,  66, 200, 222, 237, 239, 242, 246, 243, 244,\n",
              "        221, 220, 193, 191, 179, 182, 182, 181, 176, 166, 168,  99,  58,\n",
              "          0,   0],\n",
              "       [  0,   0,   0,   0,   0,   0,   0,  40,  61,  44,  72,  41,  35,\n",
              "          0,   0,   0,   0,   0,   0,   0,   0,   0,   0,   0,   0,   0,\n",
              "          0,   0],\n",
              "       [  0,   0,   0,   0,   0,   0,   0,   0,   0,   0,   0,   0,   0,\n",
              "          0,   0,   0,   0,   0,   0,   0,   0,   0,   0,   0,   0,   0,\n",
              "          0,   0],\n",
              "       [  0,   0,   0,   0,   0,   0,   0,   0,   0,   0,   0,   0,   0,\n",
              "          0,   0,   0,   0,   0,   0,   0,   0,   0,   0,   0,   0,   0,\n",
              "          0,   0]], dtype=uint8)"
            ]
          },
          "metadata": {},
          "execution_count": 6
        }
      ]
    },
    {
      "cell_type": "code",
      "source": [
        "import matplotlib.pyplot as plt\n",
        "\n",
        "plt.imshow(train_images[0])\n",
        "plt.show()"
      ],
      "metadata": {
        "colab": {
          "base_uri": "https://localhost:8080/",
          "height": 430
        },
        "id": "9MpxicZ0vGhA",
        "outputId": "4e5e1dc3-b191-448f-8cd0-4415b3d7e63f"
      },
      "execution_count": 26,
      "outputs": [
        {
          "output_type": "display_data",
          "data": {
            "text/plain": [
              "<Figure size 640x480 with 1 Axes>"
            ],
            "image/png": "[encoded data removed]"
          },
          "metadata": {}
        }
      ]
    },
    {
      "cell_type": "code",
      "source": [
        "type(train_images)\n",
        "# numpy의 경우 모든 요소들에 대해 사칙연산이 가능함"
      ],
      "metadata": {
        "colab": {
          "base_uri": "https://localhost:8080/"
        },
        "id": "oWERdY3av87l",
        "outputId": "68b98689-0888-4817-a942-1b5e3dd99d55"
      },
      "execution_count": 12,
      "outputs": [
        {
          "output_type": "execute_result",
          "data": {
            "text/plain": [
              "numpy.ndarray"
            ]
          },
          "metadata": {},
          "execution_count": 12
        }
      ]
    },
    {
      "cell_type": "code",
      "execution_count": 13,
      "metadata": {
        "id": "clZsfa_2-tBy"
      },
      "outputs": [],
      "source": [
        "# 이미지들을 정규화합니다 (0과 1 사이의 값으로)\n",
        "# 이미지 픽셀 값은 0에서 255 사이의 범위를 갖습니다.\n",
        "# 정규화를 통해 모든 픽셀 값을 0에서 1 사이의 값으로 스케일링합니다.\n",
        "train_images = train_images / 255.0 # train_images  /= 255.0\n",
        "test_images = test_images / 255.0\n",
        "# 이미지 정규화는 이미지 데이터를 신경망 모델에 입력하기 전에 스케일을 조정하는 과정입니다.\n",
        "# 일반적으로 0에서 255 사이의 픽셀 값은 0과 1 사이의 값으로 변환하여 모델의 학습을 더 안정적으로 만듭니다.\n",
        "# 이렇게 정규화된 데이터는 학습 및 예측 과정에서 더 잘 동작합니다."
      ]
    },
    {
      "cell_type": "code",
      "execution_count": 15,
      "metadata": {
        "id": "Hnav-5X6-vTq"
      },
      "outputs": [],
      "source": [
        "# 순차적 모델을 구축합니다\n",
        "model = Sequential([\n",
        "    # Flatten 레이어: 2D 이미지를 1D 배열로 변환하여 입력 데이터를 평평하게 만듭니다.\n",
        "    # 이렇게 하면 이미지의 픽셀을 일렬로 나열하여 신경망에 입력할 수 있습니다.\n",
        "    # 입력 이미지는 28x28 크기의 2D 배열입니다.\n",
        "    Flatten(input_shape=(28, 28)),\n",
        "    # Dense 레이어 (은닉층): 128개의 뉴런을 가집니다.\n",
        "    # 활성화 함수로는 ReLU(Rectified Linear Activation)를 사용합니다.\n",
        "    # 이 층은 입력 데이터에서 중요한 특징을 추출하는 역할을 합니다.\n",
        "    # 128개의 은닉 뉴런과 ReLU 활성화 함수를 사용합니다.\n",
        "    Dense(128, activation='relu'), # activation = tf.nn.relu\n",
        "\n",
        "    # Dense 레이어 (출력 층): 10개의 뉴런을 가집니다.\n",
        "    # 활성화 함수로는 Softmax를 사용합니다. Softmax는 다중 클래스 분류에 적합합니다.\n",
        "    # 각 뉴런은 클래스(패션 아이템 카테고리)에 대한 확률을 출력합니다.\n",
        "    # 10개의 클래스를 분류하기 위한 출력 층입니다.\n",
        "    Dense(10, activation='softmax')\n",
        "])\n"
      ]
    },
    {
      "cell_type": "code",
      "source": [
        "model.summary()"
      ],
      "metadata": {
        "colab": {
          "base_uri": "https://localhost:8080/"
        },
        "id": "adIBaNbExsa1",
        "outputId": "ba2343c6-3786-4871-85a1-71a6b518235e"
      },
      "execution_count": 18,
      "outputs": [
        {
          "output_type": "stream",
          "name": "stdout",
          "text": [
            "Model: \"sequential\"\n",
            "_________________________________________________________________\n",
            " Layer (type)                Output Shape              Param #   \n",
            "=================================================================\n",
            " flatten_1 (Flatten)         (None, 784)               0         \n",
            "                                                                 \n",
            " dense (Dense)               (None, 128)               100480    \n",
            "                                                                 \n",
            " dense_1 (Dense)             (None, 10)                1290      \n",
            "                                                                 \n",
            "=================================================================\n",
            "Total params: 101770 (397.54 KB)\n",
            "Trainable params: 101770 (397.54 KB)\n",
            "Non-trainable params: 0 (0.00 Byte)\n",
            "_________________________________________________________________\n"
          ]
        }
      ]
    },
    {
      "cell_type": "code",
      "execution_count": 17,
      "metadata": {
        "id": "GbxsmkzX-w0c"
      },
      "outputs": [],
      "source": [
        "# 모델을 컴파일합니다\n",
        "model.compile(\n",
        "    optimizer='adam',                        # 옵티마이저로 'adam'을 사용합니다. Adam은 효율적인 경사 하강 알고리즘입니다.\n",
        "    loss='sparse_categorical_crossentropy',  # 손실 함수로 'sparse_categorical_crossentropy'를 사용합니다.\n",
        "    metrics=['accuracy'],                    # 모델 평가 지표로 정확도를 사용합니다.\n",
        ")\n",
        "\n",
        "# sparse_categorical_crossentropy와 categorical_crossentropy의 차이\n",
        "\n",
        "# sparse_categorical_crossentropy:\n",
        "# - 레이블은 정수 형태로 주어집니다. 각 샘플의 레이블은 클래스의 인덱스입니다.\n",
        "# - 예를 들어, 클래스가 0부터 9까지의 정수로 표현되는 경우 사용됩니다.\n",
        "# - 모델의 출력은 클래스 수에 대한 로짓(점수)을 출력하며, 소프트맥스 활성화 함수와 함께 사용됩니다.\n",
        "\n",
        "# categorical_crossentropy:\n",
        "# - 레이블은 원-핫 인코딩된 벡터로 주어집니다. 각 클래스에 해당하는 요소는 1, 나머지는 0입니다.\n",
        "# - 예를 들어, 클래스가 [0, 1, 0, 0, 0, 0, 0, 0, 0, 0]과 같이 벡터로 표현되는 경우 사용됩니다.\n",
        "# - 모델의 출력은 클래스에 대한 확률 분포를 출력하며, 소프트맥스 활성화 함수와 함께 사용됩니다.\n",
        "\n",
        "# 어떤 것을 선택해야 할지는 데이터의 레이블 표현 방식에 따라 다릅니다.\n",
        "# sparse_categorical_crossentropy는 정수로 표현된 클래스 레이블에 적합하고,\n",
        "# categorical_crossentropy는 원-핫 인코딩된 클래스 레이블에 적합합니다."
      ]
    },
    {
      "cell_type": "code",
      "execution_count": 27,
      "metadata": {
        "colab": {
          "base_uri": "https://localhost:8080/"
        },
        "id": "d-uIrm68-ydr",
        "outputId": "a767bbee-30fc-41a7-84f9-b6faf80b8a8d"
      },
      "outputs": [
        {
          "output_type": "stream",
          "name": "stdout",
          "text": [
            "Epoch 1/50\n",
            "1500/1500 [==============================] - 6s 4ms/step - loss: 0.2298 - accuracy: 0.9155 - val_loss: 0.2581 - val_accuracy: 0.9043\n",
            "Epoch 2/50\n",
            "  58/1500 [>.............................] - ETA: 3s - loss: 0.2213 - accuracy: 0.9170"
          ]
        },
        {
          "output_type": "stream",
          "name": "stderr",
          "text": [
            "/usr/local/lib/python3.10/dist-packages/keras/src/engine/training.py:3079: UserWarning: You are saving your model as an HDF5 file via `model.save()`. This file format is considered legacy. We recommend using instead the native Keras format, e.g. `model.save('my_model.keras')`.\n",
            "  saving_api.save_model(\n"
          ]
        },
        {
          "output_type": "stream",
          "name": "stdout",
          "text": [
            "1500/1500 [==============================] - 5s 3ms/step - loss: 0.2224 - accuracy: 0.9174 - val_loss: 0.2645 - val_accuracy: 0.9021\n",
            "Epoch 3/50\n",
            "1500/1500 [==============================] - 6s 4ms/step - loss: 0.2142 - accuracy: 0.9203 - val_loss: 0.2524 - val_accuracy: 0.9049\n",
            "Epoch 4/50\n",
            "1500/1500 [==============================] - 6s 4ms/step - loss: 0.2098 - accuracy: 0.9214 - val_loss: 0.2481 - val_accuracy: 0.9085\n",
            "Epoch 5/50\n",
            "1500/1500 [==============================] - 5s 3ms/step - loss: 0.2024 - accuracy: 0.9252 - val_loss: 0.2409 - val_accuracy: 0.9107\n",
            "Epoch 6/50\n",
            "1500/1500 [==============================] - 6s 4ms/step - loss: 0.1968 - accuracy: 0.9264 - val_loss: 0.2565 - val_accuracy: 0.9062\n",
            "Epoch 7/50\n",
            "1500/1500 [==============================] - 5s 4ms/step - loss: 0.1905 - accuracy: 0.9283 - val_loss: 0.2573 - val_accuracy: 0.9094\n",
            "Epoch 8/50\n",
            "1500/1500 [==============================] - 6s 4ms/step - loss: 0.1876 - accuracy: 0.9297 - val_loss: 0.2403 - val_accuracy: 0.9129\n",
            "Epoch 9/50\n",
            "1500/1500 [==============================] - 5s 3ms/step - loss: 0.1800 - accuracy: 0.9338 - val_loss: 0.2587 - val_accuracy: 0.9038\n",
            "Epoch 10/50\n",
            "1500/1500 [==============================] - 5s 4ms/step - loss: 0.1756 - accuracy: 0.9338 - val_loss: 0.2641 - val_accuracy: 0.9086\n",
            "Epoch 11/50\n",
            "1500/1500 [==============================] - 6s 4ms/step - loss: 0.1723 - accuracy: 0.9367 - val_loss: 0.2816 - val_accuracy: 0.9028\n",
            "Epoch 12/50\n",
            "1500/1500 [==============================] - 5s 3ms/step - loss: 0.1681 - accuracy: 0.9371 - val_loss: 0.2730 - val_accuracy: 0.9066\n",
            "Epoch 13/50\n",
            "1500/1500 [==============================] - 5s 3ms/step - loss: 0.1629 - accuracy: 0.9390 - val_loss: 0.2822 - val_accuracy: 0.9026\n",
            "Epoch 14/50\n",
            "1500/1500 [==============================] - 6s 4ms/step - loss: 0.1566 - accuracy: 0.9418 - val_loss: 0.2776 - val_accuracy: 0.9056\n",
            "Epoch 15/50\n",
            "1500/1500 [==============================] - 5s 3ms/step - loss: 0.1547 - accuracy: 0.9425 - val_loss: 0.2781 - val_accuracy: 0.9062\n",
            "Epoch 16/50\n",
            "1500/1500 [==============================] - 6s 4ms/step - loss: 0.1525 - accuracy: 0.9426 - val_loss: 0.2877 - val_accuracy: 0.9053\n",
            "Epoch 17/50\n",
            "1500/1500 [==============================] - 5s 3ms/step - loss: 0.1487 - accuracy: 0.9455 - val_loss: 0.2862 - val_accuracy: 0.9045\n",
            "Epoch 18/50\n",
            "1500/1500 [==============================] - 5s 4ms/step - loss: 0.1419 - accuracy: 0.9474 - val_loss: 0.2931 - val_accuracy: 0.9056\n"
          ]
        },
        {
          "output_type": "execute_result",
          "data": {
            "text/plain": [
              "<keras.src.callbacks.History at 0x7db180189f90>"
            ]
          },
          "metadata": {},
          "execution_count": 27
        }
      ],
      "source": [
        "from keras.callbacks import EarlyStopping, ModelCheckpoint # 조기 종료와 모델 체크포인트 콜백\n",
        "\n",
        "\n",
        "# 조기 종료(Early Stopping) 콜백을 설정합니다. 이 콜백은 검증 손실(validation loss)을 모니터링하고,\n",
        "# 10번의 연속적인 검증 손실 상승(patience=10)이 발생하면 학습을 조기에 종료합니다.\n",
        "early_stopping = EarlyStopping(monitor='val_loss', patience=10)\n",
        "\n",
        "# 모델 체크포인트(Model Checkpoint) 콜백을 설정합니다. 이 콜백은 최상의 검증 성능을 가진 모델을 저장합니다.\n",
        "# save_best_only=True로 설정하면 검증 손실이 감소할 때만 모델을 저장합니다.\n",
        "model_checkpoint = ModelCheckpoint('best_model.h5', save_best_only=True)\n",
        "\n",
        "# 모델을 학습시킵니다\n",
        "# train_images: 훈련 이미지 데이터\n",
        "# train_labels: 훈련 레이블 데이터\n",
        "# epochs: 전체 데이터셋을 몇 번 반복해서 학습할지 지정합니다.\n",
        "\n",
        "model.fit(train_images, train_labels,\n",
        "          epochs=50,\n",
        "          validation_split=0.2,\n",
        "          callbacks=[early_stopping, model_checkpoint]\n",
        "          )\n",
        "\n",
        "# 1. Epochs를 늘리고 GPU 설정하기\n",
        "# 2. 조기 종료(Early Stopping) 도입하기:\n",
        "# - 조기 종료는 모델이 과적합(overfitting)되는 것을 방지하기 위한 기술 중 하나입니다.\n",
        "# - 모델 학습 중에 검증 데이터를 사용하여 모델의 성능을 모니터링합니다.\n",
        "# - 성능이 일정 기간 동안 향상되지 않을 때 학습을 조기 종료합니다.\n",
        "# - 이를 위해 Keras에서는 EarlyStopping 콜백을 사용할 수 있습니다.\n",
        "# - 예를 들어, val_loss(검증 데이터의 손실)을 모니터링하고, 일정 epochs 동안 개선되지 않으면 학습을 종료할 수 있습니다.\n",
        "# - EarlyStopping을 적용하려면 적절한 매개 변수(예: patience)를 설정하여 사용합니다.\n",
        "# - 조기 종료를 사용하면 모델이 더 일반화되고 좋은 성능을 얻을 수 있습니다."
      ]
    },
    {
      "cell_type": "code",
      "execution_count": 28,
      "metadata": {
        "colab": {
          "base_uri": "https://localhost:8080/"
        },
        "id": "gFsPgT5C-zXr",
        "outputId": "585b7135-0431-48b4-fa96-44e4229b10ff"
      },
      "outputs": [
        {
          "output_type": "stream",
          "name": "stdout",
          "text": [
            "313/313 - 1s - loss: 0.3958 - accuracy: 0.8857 - 573ms/epoch - 2ms/step\n"
          ]
        }
      ],
      "source": [
        "# 모델을 평가합니다\n",
        "# test_images: 테스트 이미지 데이터\n",
        "# test_labels: 테스트 레이블 데이터\n",
        "# verbose: 평가 과정의 출력을 제어하는 매개 변수입니다. 0은 아무 출력도 하지 않고, 1은 진행 바와 함께 출력하며, 2는 간단한 출력을 합니다.\n",
        "\n",
        "test_loss, test_accuracy = model.evaluate(test_images, test_labels, verbose=2)\n",
        "\n",
        "# 평가 결과 설명:\n",
        "# - 모델을 테스트 데이터로 평가하여 손실(test_loss)과 정확도(test_acc)를 계산합니다.\n",
        "# - 손실은 모델의 예측이 실제 레이블과 얼마나 일치하지 않는지를 나타냅니다.\n",
        "# - 정확도는 모델이 정확하게 분류한 샘플의 비율을 나타냅니다.\n",
        "# - 모델의 성능을 평가하여 훈련 과정의 결과를 확인하고, 모델을 개선하는 데 도움을 줍니다."
      ]
    },
    {
      "cell_type": "code",
      "execution_count": 29,
      "metadata": {
        "colab": {
          "base_uri": "https://localhost:8080/"
        },
        "id": "miwf97Rk-0si",
        "outputId": "c33ae744-e81f-4e23-c115-2463a0ffad88"
      },
      "outputs": [
        {
          "output_type": "stream",
          "name": "stdout",
          "text": [
            "\n",
            "Test accuracy: 0.885699987411499 0.3958379924297333\n"
          ]
        }
      ],
      "source": [
        "# 테스트 정확도를 출력합니다\n",
        "print('\\nTest accuracy:', test_accuracy, test_loss)\n",
        "\n",
        "# 이 코드는 모델의 테스트 정확도를 출력하는 부분입니다.\n",
        "# test_acc는 모델 평가 결과에서 계산된 정확도를 나타내며, 이를 화면에 출력합니다.\n",
        "# 테스트 정확도는 모델이 테스트 데이터에서 얼마나 정확하게 분류하는지를 나타내는 중요한 지표 중 하나입니다."
      ]
    },
    {
      "cell_type": "code",
      "execution_count": 23,
      "metadata": {
        "colab": {
          "base_uri": "https://localhost:8080/"
        },
        "id": "PiJEHYUy_epU",
        "outputId": "120e1c12-b289-4c8f-c653-629cb73fb06e"
      },
      "outputs": [
        {
          "output_type": "stream",
          "name": "stdout",
          "text": [
            "313/313 [==============================] - 1s 3ms/step\n"
          ]
        }
      ],
      "source": [
        "classifications = model.predict(test_images)\n",
        "\n",
        "# 이 코드는 훈련된 모델을 사용하여 테스트 이미지에 대한 예측을 수행합니다.\n",
        "# test_images는 테스트 데이터셋에 있는 이미지들을 나타내며, 모델은 이 이미지들을 분류합니다.\n",
        "# model.predict() 함수는 각 이미지에 대한 모델의 예측 결과를 반환합니다.\n",
        "\n",
        "# classifications 변수에는 예측 결과가 저장됩니다.\n",
        "# classifications는 각 이미지에 대한 클래스 확률 분포를 나타내며, 예를 들어 첫 번째 이미지에 대한 확률 분포가 [0.1, 0.2, 0.3, ...] 형태일 수 있습니다.\n",
        "# 이 분포에서 가장 높은 확률을 가지는 클래스가 모델의 예측 결과입니다.\n",
        "\n",
        "# 이렇게 예측을 수행하면 모델이 각 테스트 이미지를 어떻게 분류하는지를 알 수 있으며,\n",
        "# 이를 통해 모델의 성능을 평가하거나 예측 결과를 활용할 수 있습니다."
      ]
    },
    {
      "cell_type": "code",
      "execution_count": 24,
      "metadata": {
        "colab": {
          "base_uri": "https://localhost:8080/",
          "height": 467
        },
        "id": "bpK155aO__na",
        "outputId": "6b818612-8ab3-4fc1-e84b-dd2bba57a83e"
      },
      "outputs": [
        {
          "output_type": "display_data",
          "data": {
            "text/plain": [
              "<Figure size 640x480 with 1 Axes>"
            ],
            "image/png": "[encoded data removed]"
          },
          "metadata": {}
        },
        {
          "output_type": "stream",
          "name": "stdout",
          "text": [
            "예측 : 9\n",
            "실제 : 9\n"
          ]
        }
      ],
      "source": [
        "import numpy as np\n",
        "import matplotlib.pyplot as plt\n",
        "\n",
        "def show_result(index):\n",
        "    # 이미지 표시\n",
        "    plt.imshow(test_images[index] * 255)  # 이미지를 시각화하기 전에 정규화를 되돌립니다 (* 255)\n",
        "    plt.show()\n",
        "\n",
        "    # 예측 결과 출력\n",
        "    # np.argmax() 함수는 배열에서 최댓값을 가지는 원소의 인덱스를 반환합니다.\n",
        "    predicted_class = np.argmax(classifications[index])  # classifications에서 가장 높은 확률을 가지는 클래스의 인덱스를 찾습니다.\n",
        "    print(f'예측 : {predicted_class}')  # 모델의 예측 결과를 출력합니다.\n",
        "\n",
        "    # 실제 클래스(레이블) 출력\n",
        "    true_class = test_labels[index]  # 테스트 데이터의 실제 클래스(레이블)를 가져옵니다.\n",
        "    print(f'실제 : {true_class}')  # 실제 클래스(레이블)를 출력합니다.\n",
        "\n",
        "show_result(0)"
      ]
    },
    {
      "cell_type": "code",
      "source": [
        "label_name = ['T-shirt/top',\n",
        " 'Trouser',\n",
        " 'Pullover',\n",
        " 'Dress',\n",
        " 'Coat',\n",
        " 'Sandal',\n",
        " 'Shirt',\n",
        " 'Sneaker',\n",
        " 'Bag',\n",
        " 'Ankle boot']\n",
        "\n",
        "def show_result2(index):\n",
        "    # 이미지 표시\n",
        "    plt.imshow(test_images[index] * 255)  # 이미지를 시각화하기 전에 정규화를 되돌립니다 (* 255)\n",
        "    plt.show()\n",
        "\n",
        "    # 예측 결과 출력\n",
        "    # np.argmax() 함수는 배열에서 최댓값을 가지는 원소의 인덱스를 반환합니다.\n",
        "    predicted_class = label_name[np.argmax(classifications[index])]  # classifications에서 가장 높은 확률을 가지는 클래스의 인덱스를 찾습니다.\n",
        "    print(f'예측 : {predicted_class}')  # 모델의 예측 결과를 출력합니다.\n",
        "\n",
        "    # 실제 클래스(레이블) 출력\n",
        "    true_class = label_name[test_labels[index]]  # 테스트 데이터의 실제 클래스(레이블)를 가져옵니다.\n",
        "    print(f'실제 : {true_class}')  # 실제 클래스(레이블)를 출력합니다.\n",
        "\n",
        "show_result2(12)"
      ],
      "metadata": {
        "colab": {
          "base_uri": "https://localhost:8080/",
          "height": 467
        },
        "id": "UBh0jzgSz_cU",
        "outputId": "799661eb-84d8-4fad-d318-fdbc56675ecd"
      },
      "execution_count": 25,
      "outputs": [
        {
          "output_type": "display_data",
          "data": {
            "text/plain": [
              "<Figure size 640x480 with 1 Axes>"
            ],
            "image/png": "[encoded data removed]"
          },
          "metadata": {}
        },
        {
          "output_type": "stream",
          "name": "stdout",
          "text": [
            "예측 : Sandal\n",
            "실제 : Sneaker\n"
          ]
        }
      ]
    },
    {
      "cell_type": "code",
      "source": [],
      "metadata": {
        "id": "c60rm1LA3ZCF"
      },
      "execution_count": null,
      "outputs": []
    }
  ],
  "metadata": {
    "accelerator": "GPU",
    "colab": {
      "gpuType": "T4",
      "machine_shape": "hm",
      "provenance": [],
      "include_colab_link": true
    },
    "kernelspec": {
      "display_name": "Python 3",
      "name": "python3"
    },
    "language_info": {
      "name": "python"
    }
  },
  "nbformat": 4,
  "nbformat_minor": 0
}