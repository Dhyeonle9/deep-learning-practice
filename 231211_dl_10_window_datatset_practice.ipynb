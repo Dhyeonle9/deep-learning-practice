{
  "cells": [
    {
      "cell_type": "markdown",
      "metadata": {
        "id": "view-in-github",
        "colab_type": "text"
      },
      "source": [
        "<a href=\"https://colab.research.google.com/github/Dhyeonle9/deep-learning-practice/blob/main/231211_dl_10_window_datatset_practice.ipynb\" target=\"_parent\"><img src=\"https://colab.research.google.com/assets/colab-badge.svg\" alt=\"Open In Colab\"/></a>"
      ]
    },
    {
      "cell_type": "code",
      "execution_count": 1,
      "metadata": {
        "id": "5BViRmoLuiUC"
      },
      "outputs": [],
      "source": [
        "import tensorflow as tf"
      ]
    },
    {
      "cell_type": "code",
      "execution_count": 11,
      "metadata": {
        "colab": {
          "base_uri": "https://localhost:8080/"
        },
        "id": "1S3gBdHmuybE",
        "outputId": "f3331bd5-ea52-44b3-d7a8-c3c77e4d97b0"
      },
      "outputs": [
        {
          "output_type": "stream",
          "name": "stdout",
          "text": [
            "[0 1 2 3 4]\n",
            "[1 2 3 4 5]\n",
            "[2 3 4 5 6]\n",
            "[3 4 5 6 7]\n",
            "[4 5 6 7 8]\n",
            "[5 6 7 8 9]\n"
          ]
        }
      ],
      "source": [
        "# 0부터 9까지의 숫자로 구성된 데이터셋을 생성합니다.\n",
        "dataset = tf.data.Dataset.range(10)\n",
        "\n",
        "# 윈도우 함수를 사용하여 데이터를 윈도(창)로 분할합니다.\n",
        "# 윈도 크기: 5, 이동 간격: 1, 남는 부분은 버립니다. (drop_remainder=True)\n",
        "# 즉, 0~4, 1~5, 2~6, 3~7, 4~8, 5~9 5범위로\n",
        "dataset = dataset.window(5, shift=1, drop_remainder=True)\n",
        "\n",
        "# flat_map 함수를 사용하여 각 윈도를 배치로 변환합니다.\n",
        "# 이렇게 하면 각 윈도를 텐서로 표현하지 않고 배치로 처리할 수 있습니다.\n",
        "dataset = dataset.flat_map(lambda window: window.batch(5))\n",
        "\n",
        "# 데이터셋의 각 윈도를 출력합니다.\n",
        "for window in dataset:\n",
        "    print(window.numpy())  # 각 윈도를 NumPy 배열로 변환하여 출력합니다."
      ]
    },
    {
      "cell_type": "code",
      "execution_count": 8,
      "metadata": {
        "colab": {
          "base_uri": "https://localhost:8080/"
        },
        "id": "hnzJxADXvpnL",
        "outputId": "8c594ec8-468c-48e5-e92a-5590455ba6f3"
      },
      "outputs": [
        {
          "output_type": "stream",
          "name": "stdout",
          "text": [
            "[0 1 2 3] 4\n",
            "[1 2 3 4] 5\n",
            "[2 3 4 5] 6\n",
            "[3 4 5 6] 7\n",
            "[4 5 6 7] 8\n",
            "[5 6 7 8] 9\n"
          ]
        }
      ],
      "source": [
        "dataset = tf.data.Dataset.range(10)\n",
        "dataset = dataset.window(5, shift=1, drop_remainder=True)\n",
        "dataset = dataset.flat_map(lambda window: window.batch(5))\n",
        "\n",
        "# 데이터셋의 각 윈도를 입력(x)과 출력(y)으로 나누고, 출력을 마지막 원소로 정의합니다.\n",
        "dataset = dataset.map(lambda window: (window[:-1], window[-1:]))\n",
        "\n",
        "# 데이터셋을 순회하며 입력(x)과 출력(y)을 출력합니다.\n",
        "for x, y in dataset:\n",
        "    print(x.numpy(), y.numpy())  # 각 윈도를 NumPy 배열로 변환하여 출력합니다."
      ]
    },
    {
      "cell_type": "code",
      "execution_count": 12,
      "metadata": {
        "colab": {
          "base_uri": "https://localhost:8080/"
        },
        "id": "ahXxz287wSdY",
        "outputId": "3c1960cf-648b-410c-d2fe-922b163bca42"
      },
      "outputs": [
        {
          "output_type": "stream",
          "name": "stdout",
          "text": [
            "[[4 5 6 7]\n",
            " [3 4 5 6]] [[8]\n",
            " [7]]\n",
            "[[0 1 2 3]\n",
            " [5 6 7 8]] [[4]\n",
            " [9]]\n",
            "[[1 2 3 4]\n",
            " [2 3 4 5]] [[5]\n",
            " [6]]\n"
          ]
        }
      ],
      "source": [
        "dataset = tf.data.Dataset.range(10)\n",
        "dataset = dataset.window(5, shift=1, drop_remainder=True)\n",
        "dataset = dataset.flat_map(lambda window: window.batch(5))\n",
        "dataset = dataset.map(lambda window: (window[:-1], window[-1:]))\n",
        "\n",
        "# 데이터셋을 임의로 섞습니다. 버퍼 크기는 이 재배치를 얼마나 큰 범위에서 수행할지 결정합니다.\n",
        "dataset = dataset.shuffle(buffer_size=10)\n",
        "# 배치 크기를 2로 설정하고, 데이터를 미리 로드합니다.\n",
        "dataset = dataset.batch(2).prefetch(1)\n",
        "\n",
        "for x, y in dataset:\n",
        "    print(x.numpy(), y.numpy())"
      ]
    },
    {
      "cell_type": "code",
      "source": [],
      "metadata": {
        "id": "NY6HdZVatJjH"
      },
      "execution_count": null,
      "outputs": []
    }
  ],
  "metadata": {
    "colab": {
      "provenance": [],
      "include_colab_link": true
    },
    "kernelspec": {
      "display_name": "Python 3",
      "name": "python3"
    },
    "language_info": {
      "name": "python"
    }
  },
  "nbformat": 4,
  "nbformat_minor": 0
}